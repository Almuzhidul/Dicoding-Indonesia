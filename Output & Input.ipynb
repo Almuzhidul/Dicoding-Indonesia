{
  "nbformat": 4,
  "nbformat_minor": 0,
  "metadata": {
    "colab": {
      "name": "Untitled3.ipynb",
      "provenance": [],
      "authorship_tag": "ABX9TyPVhNOMO4j3fwTK2gPoe0JI",
      "include_colab_link": true
    },
    "kernelspec": {
      "name": "python3",
      "display_name": "Python 3"
    }
  },
  "cells": [
    {
      "cell_type": "markdown",
      "metadata": {
        "id": "view-in-github",
        "colab_type": "text"
      },
      "source": [
        "<a href=\"https://colab.research.google.com/github/Almuzhidul/Dicoding-Indonesia/blob/main/Output%20%26%20Input.ipynb\" target=\"_parent\"><img src=\"https://colab.research.google.com/assets/colab-badge.svg\" alt=\"Open In Colab\"/></a>"
      ]
    },
    {
      "cell_type": "markdown",
      "metadata": {
        "id": "Tzk80VyUU5d_"
      },
      "source": [
        "#**Python**\n",
        "---\n",
        "#*Input & Output*\n",
        "Di bagian ini kita mempelajari tentang mekanisme Input/Output, misalnya meminta masukan dari pengguna, menyimpan nilai pada variabel dan mencetak nilai ke layar.\n",
        "\n",
        "Kita juga akan belajar tentang variabel. Variabel adalah sebuah tempat (di memori komputer) untuk menyimpan nilai dengan tipe data tertentu.\n",
        "\n",
        "Untuk memberikan nilai pada sebuah variabel, kita menggunakan operator \"=\", antara nama variabel dengan nilai yang ingin disimpan\n",
        "Misalnya: x = 10. \n",
        "\n",
        "Artinya kita akan menyimpan nilai 10 (tipe integer) ke variabel x.\n",
        "\n"
      ]
    },
    {
      "cell_type": "markdown",
      "metadata": {
        "id": "6dSAltltXBnW"
      },
      "source": [
        "#Output Print\n",
        "Fungsi print() adalah cara output langsung ke konsol/layar."
      ]
    },
    {
      "cell_type": "code",
      "metadata": {
        "id": "9NFoWG5_Xad8",
        "outputId": "dfbecda0-d29d-4402-b1cd-e2cbf46d33e6",
        "colab": {
          "base_uri": "https://localhost:8080/",
          "height": 68
        }
      },
      "source": [
        "print (\"Hello World\")\n",
        "print ('Mujhid')\n",
        "print (2)"
      ],
      "execution_count": 48,
      "outputs": [
        {
          "output_type": "stream",
          "text": [
            "Hello World\n",
            "Mujhid\n",
            "2\n"
          ],
          "name": "stdout"
        }
      ]
    },
    {
      "cell_type": "markdown",
      "metadata": {
        "id": "C_dCRZCiYru3"
      },
      "source": [
        "#**Memasukkan nilai variabel pada string**"
      ]
    },
    {
      "cell_type": "code",
      "metadata": {
        "id": "ZAlzDcpPZLav",
        "outputId": "f9966dea-6aee-47f8-d938-8320e5b0ac17",
        "colab": {
          "base_uri": "https://localhost:8080/",
          "height": 34
        }
      },
      "source": [
        "x = 100\n",
        "print('Nilai x adalah', x) #output"
      ],
      "execution_count": 51,
      "outputs": [
        {
          "output_type": "stream",
          "text": [
            "Nilai x adalah 100\n"
          ],
          "name": "stdout"
        }
      ]
    },
    {
      "cell_type": "code",
      "metadata": {
        "id": "1Is43O4QU3sd"
      },
      "source": [
        "x=[0]*1000;\n",
        "x[1]=1;\n",
        "\n",
        "for j in range (2,10):\n",
        "  x[j]=x[j-1]+x[j-2]\n",
        "  print(x[10])"
      ],
      "execution_count": null,
      "outputs": []
    },
    {
      "cell_type": "code",
      "metadata": {
        "id": "rKspXwQZ__qF",
        "outputId": "06e86a9b-410a-48ee-dd73-9b980e5b3df3",
        "colab": {
          "base_uri": "https://localhost:8080/",
          "height": 85
        }
      },
      "source": [
        "a=(1,2,3,3,1,2,4)\n",
        "print (a)\n",
        "print(a[1])\n",
        "print(a[:4])\n",
        "print(a[:-3])"
      ],
      "execution_count": 22,
      "outputs": [
        {
          "output_type": "stream",
          "text": [
            "(1, 2, 3, 3, 1, 2, 4)\n",
            "2\n",
            "(1, 2, 3, 3)\n",
            "(1, 2, 3, 3)\n"
          ],
          "name": "stdout"
        }
      ]
    },
    {
      "cell_type": "code",
      "metadata": {
        "id": "w2QC_MQ-DLQl",
        "outputId": "90fca45c-6285-4106-ec55-018eb3428691",
        "colab": {
          "base_uri": "https://localhost:8080/",
          "height": 34
        }
      },
      "source": [
        "d={1:'value','key':2}\n",
        "print(\"d[1] =\", d[1])"
      ],
      "execution_count": 29,
      "outputs": [
        {
          "output_type": "stream",
          "text": [
            "d[1] = value\n"
          ],
          "name": "stdout"
        }
      ]
    },
    {
      "cell_type": "code",
      "metadata": {
        "id": "dWbTICNpFPsw",
        "outputId": "d7d673f3-69b0-4d0a-cd67-7409a0e70347",
        "colab": {
          "base_uri": "https://localhost:8080/",
          "height": 34
        }
      },
      "source": [
        "print(list('hello'))"
      ],
      "execution_count": 30,
      "outputs": [
        {
          "output_type": "stream",
          "text": [
            "['h', 'e', 'l', 'l', 'o']\n"
          ],
          "name": "stdout"
        }
      ]
    },
    {
      "cell_type": "code",
      "metadata": {
        "id": "1arzOSXAGlJ2",
        "outputId": "8ab4bb2b-1ef3-405a-a416-3aa540b349ea",
        "colab": {
          "base_uri": "https://localhost:8080/",
          "height": 34
        }
      },
      "source": [
        "print(str(2))"
      ],
      "execution_count": 33,
      "outputs": [
        {
          "output_type": "stream",
          "text": [
            "2\n"
          ],
          "name": "stdout"
        }
      ]
    },
    {
      "cell_type": "code",
      "metadata": {
        "id": "Sdrj0TeSGpPq",
        "outputId": "5cd298ed-8cd8-4afc-ea97-9ab6a288a336",
        "colab": {
          "base_uri": "https://localhost:8080/",
          "height": 34
        }
      },
      "source": [
        "nama = \"dicoding\"\n",
        "print(\"hello, %s\" %nama)"
      ],
      "execution_count": 36,
      "outputs": [
        {
          "output_type": "stream",
          "text": [
            "hello, dicoding\n"
          ],
          "name": "stdout"
        }
      ]
    },
    {
      "cell_type": "code",
      "metadata": {
        "id": "WklkP9O5KQ9F",
        "outputId": "d4b589b0-2180-413c-d621-65e85d13235f",
        "colab": {
          "base_uri": "https://localhost:8080/",
          "height": 34
        }
      },
      "source": [
        "nama = \"Mujhid\"\n",
        "umur = 21\n",
        "print(\"Umur %s adalah %d tahun\" % (nama, umur))"
      ],
      "execution_count": 45,
      "outputs": [
        {
          "output_type": "stream",
          "text": [
            "Umur Mujhid adalah 21 tahun\n"
          ],
          "name": "stdout"
        }
      ]
    },
    {
      "cell_type": "code",
      "metadata": {
        "id": "YYUdM4fKMssz",
        "outputId": "336728bb-967e-4d47-874f-6a186dd23309",
        "colab": {
          "base_uri": "https://localhost:8080/",
          "height": 34
        }
      },
      "source": [
        "list = [7, 9, 11, 13]\n",
        "print(\"List saya: %s\" % list)"
      ],
      "execution_count": 46,
      "outputs": [
        {
          "output_type": "stream",
          "text": [
            "List saya: [7, 9, 11, 13]\n"
          ],
          "name": "stdout"
        }
      ]
    },
    {
      "cell_type": "markdown",
      "metadata": {
        "id": "ShYnt4_HZmYm"
      },
      "source": [
        "#**Input**\n",
        "input()\n",
        "Untuk memungkinkan kita (user) memberikan input pada program, gunakan fungsi input(), dengan argumen dalam kurung () adalah teks yang ingin ditampilkan (prompt) dan variabel sebelum tanda sama dengan (=) adalah penampung hasil dari input pengguna:"
      ]
    },
    {
      "cell_type": "code",
      "metadata": {
        "id": "rJ52AsEDK-i2",
        "outputId": "6ac00b67-0831-4072-a5cd-56150acfe6b6",
        "colab": {
          "base_uri": "https://localhost:8080/",
          "height": 51
        }
      },
      "source": [
        "nilai=input('masukkan angka:')\n",
        "print (nilai) #output"
      ],
      "execution_count": 53,
      "outputs": [
        {
          "output_type": "stream",
          "text": [
            "masukkan angka:100\n",
            "100\n"
          ],
          "name": "stdout"
        }
      ]
    },
    {
      "cell_type": "code",
      "metadata": {
        "id": "HYTsddFOQ2HX"
      },
      "source": [
        ""
      ],
      "execution_count": null,
      "outputs": []
    }
  ]
}